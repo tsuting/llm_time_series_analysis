{
 "cells": [
  {
   "cell_type": "code",
   "execution_count": null,
   "metadata": {},
   "outputs": [],
   "source": [
    "from openai import AzureOpenAI\n",
    "from dotenv import load_dotenv\n",
    "import os\n",
    "import time\n",
    "import pandas as pd\n",
    "from jinja2 import Environment, FileSystemLoader\n",
    "from openai.types.beta.threads import TextContentBlock\n",
    "\n",
    "load_dotenv()\n",
    "\n",
    "data_path = \"../../data/air_passengers.csv\"\n",
    "prompt_path = \"prompt/instruction.jinja2\""
   ]
  },
  {
   "cell_type": "code",
   "execution_count": null,
   "metadata": {},
   "outputs": [],
   "source": [
    "assistant_name = \"Code Interpreter\"\n",
    "question = \"What is the average value of the target column\"\n",
    "instruction = (\n",
    "    Environment(loader=FileSystemLoader(\".\")).get_template(prompt_path).render()\n",
    ")\n",
    "\n",
    "# get the client object\n",
    "client = AzureOpenAI(\n",
    "    api_key=os.getenv(\"AZURE_OPENAI_API_KEY\"),\n",
    "    api_version=\"2024-05-01-preview\",  # only support this version\n",
    "    azure_endpoint=os.getenv(\"AZURE_OPENAI_ENDPOINT\"),\n",
    ")"
   ]
  },
  {
   "cell_type": "code",
   "execution_count": null,
   "metadata": {},
   "outputs": [],
   "source": [
    "print(client.beta.assistants.list().data)"
   ]
  },
  {
   "cell_type": "code",
   "execution_count": null,
   "metadata": {},
   "outputs": [],
   "source": [
    "# delete assistant\n",
    "# print (client.beta.assistants.list().data)\n",
    "client.beta.assistants.delete(assistant_id=\"asst_m7CrUbLZilA4BJPRoP0DeyxD\")"
   ]
  },
  {
   "cell_type": "code",
   "execution_count": null,
   "metadata": {},
   "outputs": [],
   "source": [
    "# upload the data\n",
    "data = client.files.create(file=open(data_path, \"rb\"), purpose=\"assistants\")\n",
    "\n",
    "# get the list of assistants\n",
    "df_assistants = pd.DataFrame.from_records(\n",
    "    [s.to_dict() for s in client.beta.assistants.list().data]\n",
    ")\n",
    "if not df_assistants.empty:\n",
    "    df_assistants = df_assistants[df_assistants[\"name\"] == assistant_name]\n",
    "\n",
    "if df_assistants.shape[0] == 0:\n",
    "    # create an assistant\n",
    "    assistant = client.beta.assistants.create(\n",
    "        name=assistant_name,\n",
    "        instructions=instruction,\n",
    "        tools=[{\"type\": \"code_interpreter\"}],\n",
    "        tool_resources={\"code_interpreter\": {\"file_ids\": [data.id]}},\n",
    "        model=\"gpt-4o\",\n",
    "        temperature=1,\n",
    "        top_p=1,\n",
    "    )\n",
    "else:\n",
    "    if df_assistants.shape[0] > 1:\n",
    "        print(\"More than one assistant with the same name. Select the first one.\")\n",
    "    assistant_id = df_assistants.iloc[0][\"id\"]\n",
    "    assistant = client.beta.assistants.retrieve(assistant_id=assistant_id)\n",
    "\n",
    "# create a and run a thread\n",
    "run = client.beta.threads.create_and_run(\n",
    "    assistant_id=assistant.id,\n",
    "    thread={\"messages\": [{\"role\": \"user\", \"content\": question}]},\n",
    ")\n",
    "\n",
    "# looping until the run completes or fails\n",
    "while run.status in [\"queued\", \"in_progress\", \"cancelling\"]:\n",
    "    time.sleep(1)\n",
    "    run = client.beta.threads.runs.retrieve(thread_id=run.thread_id, run_id=run.id)\n",
    "\n",
    "if run.status == \"completed\":\n",
    "    messages = client.beta.threads.messages.list(thread_id=run.thread_id)\n",
    "\n",
    "    # format the output\n",
    "    for message in messages.data[::-1]:\n",
    "        for item in message.content:\n",
    "            if isinstance(item, TextContentBlock):\n",
    "                print(f\"{message.role}: {item.text.value}\")\n",
    "\n",
    "    # download the code\n",
    "\n",
    "\n",
    "elif run.status == \"requires_action\":\n",
    "    # the assistant requires calling some functions\n",
    "    # and submit the tool outputs back to the run\n",
    "    pass\n",
    "else:\n",
    "    print(run.status)"
   ]
  }
 ],
 "metadata": {
  "kernelspec": {
   "display_name": "test",
   "language": "python",
   "name": "python3"
  },
  "language_info": {
   "codemirror_mode": {
    "name": "ipython",
    "version": 3
   },
   "file_extension": ".py",
   "mimetype": "text/x-python",
   "name": "python",
   "nbconvert_exporter": "python",
   "pygments_lexer": "ipython3",
   "version": "3.12.7"
  }
 },
 "nbformat": 4,
 "nbformat_minor": 2
}
