{
 "cells": [
  {
   "cell_type": "markdown",
   "metadata": {},
   "source": [
    "This notebooks shows how to use code interpreter [OpenAI assistant](https://platform.openai.com/docs/assistants/tools/code-interpreter). This tool generates the code and executes the code in the sandbox.\n",
    "- steps:\n",
    "  - create an assistant (LLM with code interpreter)\n",
    "  - call the assistant to write the code, and executes the code in the sandbox (this might contain multiple rounds in order to get the answer)\n",
    "  - get the answer from the assistant"
   ]
  },
  {
   "cell_type": "code",
   "execution_count": null,
   "metadata": {},
   "outputs": [],
   "source": [
    "from openai import AzureOpenAI\n",
    "from dotenv import load_dotenv\n",
    "import pandas as pd\n",
    "import os\n",
    "from jinja2 import Environment, FileSystemLoader\n",
    "from pathlib import Path\n",
    "import time\n",
    "import sys\n",
    "from PIL import Image\n",
    "\n",
    "module_path = os.path.abspath(os.path.join(\"..\"))\n",
    "if module_path not in sys.path:\n",
    "    sys.path.append(module_path)\n",
    "\n",
    "from utils.utils import convert_types, eval\n",
    "from utils.vars import DATA_DIR, DATASET_FILES, QUESTION_FILES\n",
    "from utils.assistants import AzureOpenAIAssistant\n",
    "\n",
    "load_dotenv()\n",
    "ASSISTANT_NAME_PREFIX = \"code_interpreter\""
   ]
  },
  {
   "cell_type": "code",
   "execution_count": null,
   "metadata": {},
   "outputs": [],
   "source": [
    "# get the prompt template\n",
    "prompt_path = \"prompts/prompt.jinja2\"\n",
    "\n",
    "# get the client object\n",
    "client = AzureOpenAI(\n",
    "    api_key=os.getenv(\"AZURE_OPENAI_API_KEY\"),\n",
    "    api_version=\"2025-03-01-preview\",  # different from assistant\n",
    "    azure_endpoint=os.getenv(\"AZURE_OPENAI_ENDPOINT\"),\n",
    ")\n",
    "assistant = AzureOpenAIAssistant(client=client)"
   ]
  },
  {
   "cell_type": "code",
   "execution_count": null,
   "metadata": {},
   "outputs": [],
   "source": [
    "display(assistant.list_all_assistants())"
   ]
  },
  {
   "cell_type": "code",
   "execution_count": null,
   "metadata": {},
   "outputs": [],
   "source": [
    "# delete assistant\n",
    "assistant.delete_assistant(name=f\"{ASSISTANT_NAME_PREFIX}_nyc_taxi\")\n",
    "assistant.delete_assistant(name=f\"{ASSISTANT_NAME_PREFIX}_melbourne_temp\")\n",
    "assistant.delete_assistant(name=f\"{ASSISTANT_NAME_PREFIX}_air_passengers\")\n",
    "\n",
    "display(assistant.list_all_assistants())"
   ]
  },
  {
   "cell_type": "code",
   "execution_count": null,
   "metadata": {},
   "outputs": [],
   "source": [
    "# read the prompt\n",
    "instruction = (\n",
    "    Environment(loader=FileSystemLoader(\".\")).get_template(prompt_path).render()\n",
    ")\n",
    "\n",
    "df_result = []\n",
    "\n",
    "# loop through files\n",
    "# loop over the question files\n",
    "for question_path in QUESTION_FILES:\n",
    "    question_path = Path(question_path)\n",
    "    print(f\"Question file: {question_path.name}\")\n",
    "    # read questions\n",
    "    df_questions = pd.read_csv(DATA_DIR / question_path)\n",
    "    # loop through each csv file\n",
    "    for dataset_path in DATASET_FILES:\n",
    "        dataset_path = Path(dataset_path)\n",
    "        print(f\"file: {dataset_path.name}\")\n",
    "\n",
    "        # check if file has been uploaded to the client\n",
    "        file_id = assistant.upload_or_retrieve_file(file_path=dataset_path)\n",
    "\n",
    "        # create or retrieve an assistant\n",
    "        assistant_id = assistant.create_or_retrieve(\n",
    "            prompt_path=prompt_path,\n",
    "            assistant_name=f\"{ASSISTANT_NAME_PREFIX}_{dataset_path.stem}\",\n",
    "            tools=[{\"type\": \"code_interpreter\"}],\n",
    "            tool_resources={\"code_interpreter\": {\"file_ids\": [file_id]}},\n",
    "        )\n",
    "\n",
    "        # loop through questions\n",
    "        for _, row in df_questions.iterrows():\n",
    "            question = row[\"question\"]\n",
    "            answer_true = row[dataset_path.name]\n",
    "\n",
    "            start_time = time.time()\n",
    "\n",
    "            result = assistant.ask_a_question(\n",
    "                question=question, assistant_id=assistant_id\n",
    "            )\n",
    "\n",
    "            df_result.append(\n",
    "                {\n",
    "                    **result,\n",
    "                    \"question_file\": question_path.name,\n",
    "                    \"question\": question,\n",
    "                    \"execution_time_s\": round(time.time() - start_time, 2),\n",
    "                    \"dataset_file\": dataset_path.name,\n",
    "                    \"org_answer_true\": answer_true,\n",
    "                }\n",
    "            )"
   ]
  },
  {
   "cell_type": "code",
   "execution_count": null,
   "metadata": {},
   "outputs": [],
   "source": [
    "# eval\n",
    "df_result = pd.DataFrame(df_result)\n",
    "\n",
    "df_result[\"answer_pred\"] = df_result[\"org_answer_pred\"].apply(\n",
    "    lambda x: convert_types(x)\n",
    ")\n",
    "df_result[\"answer_true\"] = df_result[\"org_answer_true\"].apply(\n",
    "    lambda x: convert_types(x)\n",
    ")\n",
    "\n",
    "# loop through each file\n",
    "eval(df=df_result, details=True)"
   ]
  },
  {
   "cell_type": "code",
   "execution_count": null,
   "metadata": {},
   "outputs": [],
   "source": [
    "# check detailed observability metrics\n",
    "df_result.groupby([\"question_file\", \"dataset_file\"])[\n",
    "    [\"total_tokens\", \"execution_time_s\"]\n",
    "].describe()[[(\"total_tokens\", \"mean\"), (\"execution_time_s\", \"mean\")]].round(2)"
   ]
  },
  {
   "cell_type": "code",
   "execution_count": null,
   "metadata": {},
   "outputs": [],
   "source": [
    "# check overall observability metrics\n",
    "df_result.describe().round(2)"
   ]
  },
  {
   "cell_type": "code",
   "execution_count": null,
   "metadata": {},
   "outputs": [],
   "source": [
    "with pd.option_context(\"display.max_rows\", None, \"display.max_columns\", None):\n",
    "    display(df_result.groupby([\"dataset_file\"]).describe())"
   ]
  },
  {
   "cell_type": "markdown",
   "metadata": {},
   "source": [
    "## Run one question"
   ]
  },
  {
   "cell_type": "code",
   "execution_count": null,
   "metadata": {},
   "outputs": [],
   "source": [
    "# list all assistants\n",
    "assistant.list_all_assistants()"
   ]
  },
  {
   "cell_type": "code",
   "execution_count": null,
   "metadata": {},
   "outputs": [],
   "source": [
    "question = \"What is the target column?\"\n",
    "assistant_id = \"asst_VGmOogPrbDPXHIJeUbVmWWzZ\"\n",
    "print(\n",
    "    f'answer_true: {df_questions[df_questions[\"question\"] == question][\"nyc_taxi.csv\"].values[0]}'\n",
    ")\n",
    "result = assistant.ask_a_question(question=question, assistant_id=assistant_id)\n",
    "result"
   ]
  },
  {
   "cell_type": "markdown",
   "metadata": {},
   "source": [
    "## Appendix: Generate an image"
   ]
  },
  {
   "cell_type": "code",
   "execution_count": null,
   "metadata": {},
   "outputs": [],
   "source": [
    "prompt_path = \"prompts/draw_picture.jinja2\"\n",
    "question = \"Generate a box plot of the target column using seaborn with text annotation for min, max, q1, q3, and median.\"\n",
    "file_path = Path(DATA_DIR) / \"nyc_taxi.csv\"\n",
    "file_id = assistant.upload_or_retrieve_file(file_path=file_path)"
   ]
  },
  {
   "cell_type": "code",
   "execution_count": null,
   "metadata": {},
   "outputs": [],
   "source": [
    "assistant_id = assistant.create_or_retrieve(\n",
    "    assistant_name=f\"{ASSISTANT_NAME_PREFIX}_{file_path.stem}_plot\",\n",
    "    prompt_path=prompt_path,\n",
    "    tools=[{\"type\": \"code_interpreter\"}],\n",
    "    tool_resources={\"code_interpreter\": {\"file_ids\": [file_id]}},\n",
    ")\n",
    "result = assistant.ask_a_question(question=question, assistant_id=assistant_id)\n",
    "\n",
    "# print the output\n",
    "print(f'messages: {\"\\n\".join(result[\"messages\"])}')\n",
    "print(f'steps: {result[\"steps\"]}')"
   ]
  },
  {
   "cell_type": "code",
   "execution_count": null,
   "metadata": {},
   "outputs": [],
   "source": [
    "img = result[\"attachments\"][0]\n",
    "with open(img[\"file_name\"], \"wb\") as file:\n",
    "    file.write(img[\"file_bytes\"])\n",
    "Image(filename=img[\"file_name\"], width=1000)"
   ]
  }
 ],
 "metadata": {
  "kernelspec": {
   "display_name": "tsa",
   "language": "python",
   "name": "python3"
  },
  "language_info": {
   "codemirror_mode": {
    "name": "ipython",
    "version": 3
   },
   "file_extension": ".py",
   "mimetype": "text/x-python",
   "name": "python",
   "nbconvert_exporter": "python",
   "pygments_lexer": "ipython3",
   "version": "3.13.3"
  }
 },
 "nbformat": 4,
 "nbformat_minor": 2
}
