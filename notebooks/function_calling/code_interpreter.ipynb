{
 "cells": [
  {
   "cell_type": "code",
   "execution_count": null,
   "metadata": {},
   "outputs": [],
   "source": [
    "from openai import AzureOpenAI\n",
    "from dotenv import load_dotenv\n",
    "import os\n",
    "import time\n",
    "import pandas as pd\n",
    "from jinja2 import Environment, FileSystemLoader\n",
    "from openai.types.beta.threads import TextContentBlock\n",
    "from openai.types.beta.threads.runs import ToolCallsStepDetails\n",
    "from pathlib import Path\n",
    "import json\n",
    "from tqdm.notebook import tqdm\n",
    "from IPython.display import Image\n",
    "import sys\n",
    "from sklearn.metrics import accuracy_score\n",
    "\n",
    "module_path = os.path.abspath(os.path.join(\"..\"))\n",
    "if module_path not in sys.path:\n",
    "    sys.path.append(module_path)\n",
    "\n",
    "from utils.utils import convert_types\n",
    "from utils.vars import DATA_DIR, EXCEPT_FILES, QUESTION_PATH\n",
    "\n",
    "load_dotenv()"
   ]
  },
  {
   "cell_type": "code",
   "execution_count": null,
   "metadata": {},
   "outputs": [],
   "source": [
    "def create_or_retrieve_assistants(\n",
    "    client: AzureOpenAI, file_path: str, prompt_path: str, assistant_name: str\n",
    ") -> str:\n",
    "    \"\"\"\n",
    "    Create or retreive an assistant with the given name and return assistant id\n",
    "    \"\"\"\n",
    "    # get the list of assistants\n",
    "    df_assistants = pd.DataFrame.from_records(\n",
    "        [s.to_dict() for s in client.beta.assistants.list().data]\n",
    "    )\n",
    "    if not df_assistants.empty:\n",
    "        df_assistants = df_assistants[df_assistants[\"name\"] == assistant_name]\n",
    "\n",
    "    if df_assistants.shape[0] == 0:\n",
    "        # upload the data\n",
    "        data = client.files.create(file=open(file_path, \"rb\"), purpose=\"assistants\")\n",
    "        # read the prompt\n",
    "        instruction = (\n",
    "            Environment(loader=FileSystemLoader(\".\")).get_template(prompt_path).render()\n",
    "        )\n",
    "        # create an assistant\n",
    "        assistant = client.beta.assistants.create(\n",
    "            name=assistant_name,\n",
    "            instructions=instruction,\n",
    "            tools=[{\"type\": \"code_interpreter\"}],\n",
    "            tool_resources={\"code_interpreter\": {\"file_ids\": [data.id]}},\n",
    "            model=\"gpt-4o\",\n",
    "            temperature=0,\n",
    "            top_p=1,\n",
    "        )\n",
    "    else:\n",
    "        if df_assistants.shape[0] > 1:\n",
    "            print(\"More than one assistant with the same name. Select the first one.\")\n",
    "        assistant_id = df_assistants.iloc[0][\"id\"]\n",
    "        assistant = client.beta.assistants.retrieve(assistant_id=assistant_id)\n",
    "\n",
    "    return assistant.id\n",
    "\n",
    "\n",
    "def ask_assistant_a_question(client: AzureOpenAI, question: str, assistant_id: str):\n",
    "    # create a and run a thread\n",
    "    run = client.beta.threads.create_and_run(\n",
    "        assistant_id=assistant_id,\n",
    "        thread={\"messages\": [{\"role\": \"user\", \"content\": question}]},\n",
    "    )\n",
    "\n",
    "    # looping until the run completes or fails\n",
    "    while run.status in [\"queued\", \"in_progress\", \"cancelling\"]:\n",
    "        time.sleep(1)\n",
    "        run = client.beta.threads.runs.retrieve(thread_id=run.thread_id, run_id=run.id)\n",
    "\n",
    "        if run.status == \"completed\":\n",
    "            messages = client.beta.threads.messages.list(thread_id=run.thread_id)\n",
    "\n",
    "            # format the output\n",
    "            result_message = []\n",
    "            result_attachment = []\n",
    "            for message in messages.data[::-1]:\n",
    "                for item in message.content:\n",
    "                    if isinstance(item, TextContentBlock):\n",
    "                        if item.text.annotations != []:\n",
    "                            result_attachment.append(\n",
    "                                {\n",
    "                                    \"file_bytes\": client.files.content(\n",
    "                                        item.text.annotations[0].file_path.file_id\n",
    "                                    ).read(),\n",
    "                                    \"file_name\": Path(\n",
    "                                        item.text.annotations[0].text\n",
    "                                    ).name,\n",
    "                                }\n",
    "                            )\n",
    "\n",
    "                        result_message.append(f\"{message.role}: {item.text.value}\")\n",
    "\n",
    "            answer_pred = result_message[-1].split(\": \", 1)[-1]\n",
    "            try:\n",
    "                answer_pred = json.loads(answer_pred)[\"output\"]\n",
    "            except json.decoder.JSONDecodeError:\n",
    "                print(f\"JSONDecodeError: {answer_pred}\")\n",
    "\n",
    "            # get the code\n",
    "            result_code = []\n",
    "            run_steps = client.beta.threads.runs.steps.list(\n",
    "                thread_id=run.thread_id, run_id=run.id\n",
    "            )\n",
    "            for step in run_steps.data[::-1]:\n",
    "                if isinstance(step.step_details, ToolCallsStepDetails):\n",
    "                    if len(step.step_details.tool_calls) != 1:\n",
    "                        print(\"Weird in step_details.\")\n",
    "                    else:\n",
    "                        tool_call = step.step_details.tool_calls[0]\n",
    "                        result_code.append(tool_call.code_interpreter.input)\n",
    "\n",
    "            return {\n",
    "                **run.usage.to_dict(),\n",
    "                \"question\": question,\n",
    "                \"answer_pred\": convert_types(answer_pred),\n",
    "                \"message\": result_message,\n",
    "                \"code\": result_code,\n",
    "                \"attachment\": result_attachment,\n",
    "                \"execution_time_s\": run.completed_at - run.created_at,\n",
    "            }\n",
    "        elif run.status == \"requires_action\":\n",
    "            # the assistant requires calling some functions\n",
    "            # and submit the tool outputs back to the run\n",
    "            pass\n",
    "        else:\n",
    "            print(run.status)\n",
    "\n",
    "    # cleanup the assistant\n",
    "    # client.beta.assistants.delete(assistant.id)\n",
    "    client.beta.threads.delete(run.thread_id)"
   ]
  },
  {
   "cell_type": "code",
   "execution_count": null,
   "metadata": {},
   "outputs": [],
   "source": [
    "# get the client object\n",
    "client = AzureOpenAI(\n",
    "    api_key=os.getenv(\"AZURE_OPENAI_API_KEY\"),\n",
    "    api_version=\"2024-05-01-preview\",  # only support this version\n",
    "    azure_endpoint=os.getenv(\"AZURE_OPENAI_ENDPOINT\"),\n",
    ")"
   ]
  },
  {
   "cell_type": "code",
   "execution_count": null,
   "metadata": {},
   "outputs": [],
   "source": [
    "# # delete assistant\n",
    "# print (client.beta.assistants.list().data)\n",
    "# client.beta.assistants.delete(assistant_id=\"asst_v3sGqHyIYbaE2FDWDaktod6w\")"
   ]
  },
  {
   "cell_type": "markdown",
   "metadata": {},
   "source": [
    "## Run 3 files x all questions"
   ]
  },
  {
   "cell_type": "code",
   "execution_count": null,
   "metadata": {},
   "outputs": [],
   "source": [
    "prompt_path = \"prompt/code_interpreter_instruction.jinja2\"\n",
    "assistant_name_prefix = \"code_interpreter\""
   ]
  },
  {
   "cell_type": "code",
   "execution_count": null,
   "metadata": {},
   "outputs": [],
   "source": [
    "# read questions\n",
    "df_questions = pd.read_csv(QUESTION_PATH)"
   ]
  },
  {
   "cell_type": "code",
   "execution_count": null,
   "metadata": {},
   "outputs": [],
   "source": [
    "df_result = []\n",
    "for file_path in Path(DATA_DIR).glob(\"*.csv\"):\n",
    "    if file_path.name in EXCEPT_FILES:\n",
    "        continue\n",
    "    print(f\"file: {file_path.name}\")\n",
    "    assistant_id = create_or_retrieve_assistants(\n",
    "        client=client,\n",
    "        file_path=file_path,\n",
    "        prompt_path=prompt_path,\n",
    "        assistant_name=f\"{assistant_name_prefix}_{file_path.stem}\",\n",
    "    )\n",
    "    for _, row in tqdm(df_questions.iterrows(), total=len(df_questions)):\n",
    "        question = row[\"question\"]\n",
    "        answer_true = row[Path(file_path).name]\n",
    "\n",
    "        result = ask_assistant_a_question(\n",
    "            client=client, question=question, assistant_id=assistant_id\n",
    "        )\n",
    "        answer_pred = result[\"answer_pred\"]\n",
    "\n",
    "        df_result.append(\n",
    "            {\n",
    "                **result,\n",
    "                \"file\": file_path.name,\n",
    "                \"answer_true\": convert_types(answer_true),\n",
    "            }\n",
    "        )"
   ]
  },
  {
   "cell_type": "code",
   "execution_count": null,
   "metadata": {},
   "outputs": [],
   "source": [
    "df_result = pd.DataFrame(df_result)\n",
    "for file in df_result[\"file\"].unique():\n",
    "    df_tmp = df_result[df_result[\"file\"] == file]\n",
    "    print(\n",
    "        f\"File: {file}; Accuracy: {accuracy_score(df_tmp['answer_true'].astype(str).tolist(), df_tmp['answer_pred'].astype(str).tolist())}\"\n",
    "    )\n",
    "    for _, row in df_tmp[df_tmp[\"answer_true\"] != df_tmp[\"answer_pred\"]].iterrows():\n",
    "        print(f\"question: {row['question']}\")\n",
    "        print(f\"answer_pred: {row['answer_pred']}; answer_true: {row['answer_true']}\")\n",
    "        # debug\n",
    "        # print the output\n",
    "        print(\"\\n\".join(row[\"message\"]))\n",
    "        # print the code from steps\n",
    "        print(\"\\n\".join(row[\"code\"]))\n",
    "        print(\"*\" * 50)\n",
    "    del df_tmp"
   ]
  },
  {
   "cell_type": "code",
   "execution_count": null,
   "metadata": {},
   "outputs": [],
   "source": [
    "with pd.option_context(\"display.max_rows\", None, \"display.max_columns\", None):\n",
    "    display(df_result.groupby([\"file\"]).describe())"
   ]
  },
  {
   "cell_type": "markdown",
   "metadata": {},
   "source": [
    "## Run one question"
   ]
  },
  {
   "cell_type": "code",
   "execution_count": null,
   "metadata": {},
   "outputs": [],
   "source": [
    "# list all assistants\n",
    "pd.DataFrame.from_records([s.to_dict() for s in client.beta.assistants.list().data])"
   ]
  },
  {
   "cell_type": "code",
   "execution_count": null,
   "metadata": {},
   "outputs": [],
   "source": [
    "question = \"What is the time column?\"\n",
    "assistant_id = \"asst_TvV7npSBPELrEfgeA2XXcewL\"\n",
    "result = ask_assistant_a_question(\n",
    "    client=client, question=question, assistant_id=assistant_id\n",
    ")\n",
    "result"
   ]
  },
  {
   "cell_type": "markdown",
   "metadata": {},
   "source": [
    "## Appendix: Generate an image"
   ]
  },
  {
   "cell_type": "code",
   "execution_count": null,
   "metadata": {},
   "outputs": [],
   "source": [
    "question = \"Generate a box plot of the target column using seaborn with text annotation for min, max, q1, q3, and median.\"\n",
    "assistant_id = create_or_retrieve_assistants(\n",
    "    client=client,\n",
    "    file_path=\"../../data/air_passengers.csv\",\n",
    "    prompt_path=\"prompt/code_interpreter_instruction.jinja2\",\n",
    "    assistant_name=\"code_interpreter_air_passengers_others\",\n",
    ")\n",
    "result = ask_assistant_a_question(\n",
    "    client=client, question=question, assistant_id=assistant_id\n",
    ")\n",
    "\n",
    "# print the output\n",
    "print(\"\\n\".join(result[\"message\"]))\n",
    "# print the code from steps\n",
    "print(\"\\n\".join(result[\"code\"]))\n",
    "result"
   ]
  },
  {
   "cell_type": "code",
   "execution_count": null,
   "metadata": {},
   "outputs": [],
   "source": [
    "img = result[\"attachment\"][0]\n",
    "with open(img[\"file_name\"], \"wb\") as file:\n",
    "    file.write(img[\"file_bytes\"])\n",
    "Image(filename=img[\"file_name\"], width=1000)"
   ]
  }
 ],
 "metadata": {
  "kernelspec": {
   "display_name": "test",
   "language": "python",
   "name": "python3"
  },
  "language_info": {
   "codemirror_mode": {
    "name": "ipython",
    "version": 3
   },
   "file_extension": ".py",
   "mimetype": "text/x-python",
   "name": "python",
   "nbconvert_exporter": "python",
   "pygments_lexer": "ipython3",
   "version": "3.12.7"
  }
 },
 "nbformat": 4,
 "nbformat_minor": 2
}
