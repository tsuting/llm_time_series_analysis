{
 "cells": [
  {
   "cell_type": "markdown",
   "metadata": {},
   "source": [
    "This notebooks shows how to use pure prompt to get the answer for each question.\n",
    "- steps:\n",
    "  - inject the data and the question into the prompt.\n",
    "  - call the LLM\n",
    "  - get the answer from LLM\n",
    "- Note:  [`nyc_taxi.csv`](../../data/nyc_taxi.csv) cannot be fitted into the prompt due to the token limit"
   ]
  },
  {
   "cell_type": "code",
   "execution_count": null,
   "metadata": {},
   "outputs": [],
   "source": [
    "from openai import AzureOpenAI\n",
    "from dotenv import load_dotenv\n",
    "import pandas as pd\n",
    "import os\n",
    "from jinja2 import Environment, FileSystemLoader\n",
    "from pathlib import Path\n",
    "import time\n",
    "import sys\n",
    "import json\n",
    "\n",
    "module_path = os.path.abspath(os.path.join(\"..\"))\n",
    "if module_path not in sys.path:\n",
    "    sys.path.append(module_path)\n",
    "\n",
    "from utils.utils import convert_types, eval\n",
    "from utils.vars import DATA_DIR, DATASET_FILES, QUESTION_FILES, MODEL_ARGS\n",
    "\n",
    "load_dotenv()"
   ]
  },
  {
   "cell_type": "code",
   "execution_count": null,
   "metadata": {},
   "outputs": [],
   "source": [
    "# get the prompt template\n",
    "prompt_path = \"prompts/prompt.jinja2\"\n",
    "# get the client object\n",
    "client = AzureOpenAI(\n",
    "    api_key=os.getenv(\"AZURE_OPENAI_API_KEY\"),\n",
    "    api_version=\"2025-03-01-preview\",  # different from assistant\n",
    "    azure_endpoint=os.getenv(\"AZURE_OPENAI_ENDPOINT\"),\n",
    ")"
   ]
  },
  {
   "cell_type": "code",
   "execution_count": null,
   "metadata": {},
   "outputs": [],
   "source": [
    "# read the prompt\n",
    "instruction = (\n",
    "    Environment(loader=FileSystemLoader(\".\")).get_template(prompt_path).render()\n",
    ")\n",
    "\n",
    "df_result = []\n",
    "\n",
    "# loop over the question files\n",
    "for question_path in QUESTION_FILES:\n",
    "    question_path = Path(question_path)\n",
    "    print(f\"Question file: {question_path.name}\")\n",
    "    # read questions\n",
    "    df_questions = pd.read_csv(DATA_DIR / question_path)\n",
    "    # loop through each csv file\n",
    "    for dataset_path in DATASET_FILES:\n",
    "        dataset_path = Path(dataset_path)\n",
    "        if dataset_path.name in [\"nyc_taxi.csv\"]:\n",
    "            continue\n",
    "        print(f\"file: {dataset_path.name}\")\n",
    "        # read the data\n",
    "        df = pd.read_csv(DATA_DIR / dataset_path)\n",
    "\n",
    "        # call openai\n",
    "        for _, row in df_questions.iterrows():\n",
    "            question = row[\"question\"]\n",
    "            answer_true = row[dataset_path.name]\n",
    "\n",
    "            start_time = time.time()\n",
    "\n",
    "            response = client.chat.completions.create(\n",
    "                **{\n",
    "                    **MODEL_ARGS,\n",
    "                    \"seed\": 42,\n",
    "                    \"messages\": [\n",
    "                        {\"role\": \"system\", \"content\": instruction},\n",
    "                        {\n",
    "                            \"role\": \"user\",\n",
    "                            \"content\": f\"Here is the dataset in the markdown format. {df.to_markdown()}\",\n",
    "                        },\n",
    "                        {\"role\": \"user\", \"content\": question},\n",
    "                    ],\n",
    "                }\n",
    "            )\n",
    "\n",
    "            # format the output\n",
    "            try:\n",
    "                processed_response = response.choices[0].message.content\n",
    "                processed_response = (\n",
    "                    processed_response.replace(\"```json\", \"\").replace(\"```\", \"\").strip()\n",
    "                )\n",
    "                answer_pred = json.loads(processed_response)[\"output\"]\n",
    "            except json.decoder.JSONDecodeError:\n",
    "                answer_pred = None\n",
    "                print(\n",
    "                    f\"Original output: {response.choices[0].message.content}; JSONDecodeError: {answer_pred}\"\n",
    "                )\n",
    "\n",
    "            df_result.append(\n",
    "                {\n",
    "                    **response.usage.to_dict(),\n",
    "                    \"question_file\": question_path.name,\n",
    "                    \"question\": question,\n",
    "                    \"execution_time_s\": round(time.time() - start_time, 2),\n",
    "                    \"dataset_file\": dataset_path.name,\n",
    "                    \"org_answer_pred\": answer_pred,\n",
    "                    \"org_answer_true\": answer_true,\n",
    "                }\n",
    "            )"
   ]
  },
  {
   "cell_type": "code",
   "execution_count": null,
   "metadata": {},
   "outputs": [],
   "source": [
    "# eval\n",
    "df_result = pd.DataFrame(df_result)"
   ]
  },
  {
   "cell_type": "code",
   "execution_count": null,
   "metadata": {},
   "outputs": [],
   "source": [
    "df_result[\"answer_pred\"] = df_result[\"org_answer_pred\"].apply(\n",
    "    lambda x: convert_types(x)\n",
    ")\n",
    "df_result[\"answer_true\"] = df_result[\"org_answer_true\"].apply(\n",
    "    lambda x: convert_types(x)\n",
    ")"
   ]
  },
  {
   "cell_type": "code",
   "execution_count": null,
   "metadata": {},
   "outputs": [],
   "source": [
    "# check overall observability metrics\n",
    "df_result.describe().round(2)"
   ]
  },
  {
   "cell_type": "code",
   "execution_count": null,
   "metadata": {},
   "outputs": [],
   "source": [
    "# check detailed observability metrics\n",
    "df_result.groupby([\"question_file\", \"dataset_file\"])[\n",
    "    [\"total_tokens\", \"execution_time_s\"]\n",
    "].describe()[[(\"total_tokens\", \"mean\"), (\"execution_time_s\", \"mean\")]].round(2)"
   ]
  },
  {
   "cell_type": "code",
   "execution_count": null,
   "metadata": {},
   "outputs": [],
   "source": [
    "df_result[df_result[\"answer_pred\"].isna()].groupby(\n",
    "    [\"question_file\", \"dataset_file\"]\n",
    ").size()"
   ]
  },
  {
   "cell_type": "code",
   "execution_count": null,
   "metadata": {},
   "outputs": [],
   "source": [
    "# loop through each file\n",
    "eval(df=df_result, details=False)"
   ]
  },
  {
   "cell_type": "code",
   "execution_count": null,
   "metadata": {},
   "outputs": [],
   "source": [
    "with pd.option_context(\"display.max_rows\", None, \"display.max_columns\", None):\n",
    "    display(df_result.groupby([\"dataset_file\"]).describe())"
   ]
  }
 ],
 "metadata": {
  "kernelspec": {
   "display_name": "tsa",
   "language": "python",
   "name": "python3"
  },
  "language_info": {
   "codemirror_mode": {
    "name": "ipython",
    "version": 3
   },
   "file_extension": ".py",
   "mimetype": "text/x-python",
   "name": "python",
   "nbconvert_exporter": "python",
   "pygments_lexer": "ipython3",
   "version": "3.13.3"
  }
 },
 "nbformat": 4,
 "nbformat_minor": 2
}
